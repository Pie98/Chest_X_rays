{
 "cells": [
  {
   "cell_type": "markdown",
   "metadata": {},
   "source": [
    "In this notebook we are going to create a train folder divided in no findings and lung_disease. Since there are many images of no findings, we want to create first a model able to recognize if a lung is healthy or not, and only then try to detect the disease."
   ]
  },
  {
   "cell_type": "code",
   "execution_count": 1,
   "metadata": {},
   "outputs": [],
   "source": [
    "import pandas as pd"
   ]
  },
  {
   "cell_type": "code",
   "execution_count": 2,
   "metadata": {},
   "outputs": [
    {
     "data": {
      "text/plain": [
       "Finding Labels\n",
       "No Finding                  60361\n",
       "Infiltration                 9547\n",
       "Atelectasis                  4215\n",
       "Effusion                     3955\n",
       "Nodule                       2705\n",
       "Pneumothorax                 2194\n",
       "Mass                         2139\n",
       "Effusion|Infiltration        1603\n",
       "Atelectasis|Infiltration     1350\n",
       "Consolidation                1310\n",
       "Name: count, dtype: int64"
      ]
     },
     "execution_count": 2,
     "metadata": {},
     "output_type": "execute_result"
    }
   ],
   "source": [
    "Data_entry = pd.read_csv(r'C:\\Users\\Hp\\Documents\\Machine_learning_projects\\Chest_X_rays\\0_Chest_X_rays_data\\Data_Entry_2017.csv')\n",
    "Data_entry['Finding Labels'].value_counts()[:10]"
   ]
  },
  {
   "cell_type": "code",
   "execution_count": 3,
   "metadata": {},
   "outputs": [],
   "source": [
    "Disease_labels = ['Infiltration', 'Effusion', 'Atelectasis', 'Nodule', 'Pneumothorax', 'Mass']\n",
    "\n",
    "# creating the dataframe for the diseases and no findings\n",
    "Lung_diseases = Data_entry[Data_entry['Finding Labels'].isin(Disease_labels)]\n",
    "No_findings = Data_entry[Data_entry['Finding Labels'] == 'No Finding']"
   ]
  },
  {
   "cell_type": "markdown",
   "metadata": {},
   "source": [
    "# Creating train dataset"
   ]
  },
  {
   "cell_type": "code",
   "execution_count": 4,
   "metadata": {},
   "outputs": [
    {
     "name": "stdout",
     "output_type": "stream",
     "text": [
      "found 580 Infiltration images\n",
      "found 580 Effusion images\n",
      "found 580 Atelectasis images\n",
      "found 580 Nodule images\n",
      "found 580 Pneumothorax images\n",
      "found 580 Mass images\n",
      "found a total of 580 no finding images\n",
      "found a total of 3480 for lung diseases\n"
     ]
    }
   ],
   "source": [
    "import os \n",
    "test_path = r'C:\\Users\\Hp\\Documents\\Machine_learning_projects\\Chest_X_rays\\1_Datasets\\Test'\n",
    "valid_path = r'C:\\Users\\Hp\\Documents\\Machine_learning_projects\\Chest_X_rays\\1_Datasets\\Validation'\n",
    "\n",
    "test_valid_disease_images =[]\n",
    "test_valid_no_finding_images = []\n",
    "temp_len = 0\n",
    "\n",
    "# finding all the images in the test and validation folders\n",
    "for disease in Disease_labels:\n",
    "    test_valid_disease_images = test_valid_disease_images + os.listdir(test_path + '\\\\' + disease) + os.listdir(valid_path + '\\\\' + disease)\n",
    "    print(f'found {len(test_valid_disease_images)-temp_len} {disease} images')\n",
    "    temp_len= len(test_valid_disease_images)\n",
    "\n",
    "test_valid_no_finding_images = test_valid_no_finding_images + os.listdir(test_path + '\\\\' + 'No_finding') + os.listdir(valid_path + '\\\\' + 'No_finding')\n",
    "print(f'found a total of {len(test_valid_no_finding_images)} no finding images')\n",
    "print(f'found a total of {len(test_valid_disease_images)} for lung diseases')"
   ]
  },
  {
   "cell_type": "code",
   "execution_count": 5,
   "metadata": {},
   "outputs": [
    {
     "name": "stdout",
     "output_type": "stream",
     "text": [
      "there is a total of 24755 lung diseases images\n",
      "there is a total of 60361 no finding images\n"
     ]
    }
   ],
   "source": [
    "total_num_lung_diseases = len(Lung_diseases)\n",
    "total_num_no_findings = len(No_findings)\n",
    "print(f'there is a total of {total_num_lung_diseases} lung diseases images')\n",
    "print(f'there is a total of {total_num_no_findings} no finding images')"
   ]
  },
  {
   "cell_type": "code",
   "execution_count": 6,
   "metadata": {},
   "outputs": [
    {
     "name": "stdout",
     "output_type": "stream",
     "text": [
      "3480 have been removed from the lung diseases dataframe\n",
      "580 have been removed from the no finding dataframe\n"
     ]
    }
   ],
   "source": [
    "# selecting all the images that are not in the test and validation folders\n",
    "Lung_diseases = Lung_diseases[~(Lung_diseases['Image Index'].isin(test_valid_disease_images))]\n",
    "No_findings = No_findings[~(No_findings['Image Index'].isin(test_valid_no_finding_images))]\n",
    "print(f'{(total_num_lung_diseases- len(Lung_diseases))} have been removed from the lung diseases dataframe')\n",
    "print(f'{(total_num_no_findings- len(No_findings))} have been removed from the no finding dataframe')"
   ]
  },
  {
   "cell_type": "code",
   "execution_count": 7,
   "metadata": {},
   "outputs": [
    {
     "name": "stdout",
     "output_type": "stream",
     "text": [
      "there is a total of 21275 lung diseases images\n",
      "there is a total of 59781 no finding images\n"
     ]
    }
   ],
   "source": [
    "print(f'there is a total of {len(Lung_diseases)} lung diseases images')\n",
    "print(f'there is a total of {len(No_findings)} no finding images')"
   ]
  },
  {
   "cell_type": "code",
   "execution_count": 47,
   "metadata": {},
   "outputs": [
    {
     "name": "stdout",
     "output_type": "stream",
     "text": [
      "Copiati 21275 file della classe No_finding nella cartella C:\\Users\\Hp\\Documents\\Machine_learning_projects\\Chest_X_rays\\1_Datasets\\Train_no_finding_disease\\No_finding\\\n",
      "Copiati 21275 file della classe Lung_disease nella cartella C:\\Users\\Hp\\Documents\\Machine_learning_projects\\Chest_X_rays\\1_Datasets\\Train_no_finding_disease\\Lung_disease\\\n"
     ]
    }
   ],
   "source": [
    "import shutil\n",
    "\n",
    "origin_directory = r'C:\\Users\\Hp\\Documents\\Machine_learning_projects\\Chest_X_rays\\0_Chest_X_rays_data\\images'\n",
    "destination_directory_train = r'C:\\Users\\Hp\\Documents\\Machine_learning_projects\\Chest_X_rays\\1_Datasets\\Train_no_finding_disease'\n",
    "\n",
    "# creating the train folder\n",
    "for label in ['No_finding', 'Lung_disease']:\n",
    "    destination_directory = destination_directory_train + '\\\\' + label + '\\\\'\n",
    "    # Creates destination directory if it doesnt exist\n",
    "    os.makedirs(destination_directory, exist_ok=True)\n",
    "    # Copying train images to each label train directory\n",
    "    if label == 'No_finding':\n",
    "        for nome_immagine in No_findings['Image Index'][:21275]:\n",
    "            origin_path = os.path.join(origin_directory, nome_immagine)\n",
    "            destination_path = os.path.join(destination_directory, nome_immagine)\n",
    "            shutil.copy(origin_path, destination_path)\n",
    "    else:\n",
    "        for nome_immagine in Lung_diseases['Image Index']:\n",
    "            origin_path = os.path.join(origin_directory, nome_immagine)\n",
    "            destination_path = os.path.join(destination_directory, nome_immagine)\n",
    "            shutil.copy(origin_path, destination_path)\n",
    "\n",
    "    print(f\"Copiati {len(os.listdir(destination_directory))} file della classe \" + label + \" nella cartella \" + destination_directory)"
   ]
  },
  {
   "cell_type": "markdown",
   "metadata": {},
   "source": [
    "# Creating validation dataset"
   ]
  },
  {
   "cell_type": "code",
   "execution_count": null,
   "metadata": {},
   "outputs": [],
   "source": [
    "print(f\"There are {len(os.listdir(destination_directory_train + '//' + 'No_finding'))} in the no finding folder\")\n",
    "print(f\"There are {len(os.listdir(destination_directory_train + '//' + 'Lung_disease'))} in the lung disease folder\")"
   ]
  },
  {
   "cell_type": "code",
   "execution_count": 12,
   "metadata": {},
   "outputs": [
    {
     "name": "stdout",
     "output_type": "stream",
     "text": [
      "found 290 Infiltration images\n",
      "found 290 Effusion images\n",
      "found 290 Atelectasis images\n",
      "found 290 Nodule images\n",
      "found 290 Pneumothorax images\n",
      "found 290 Mass images\n",
      "found a total of 1740 no finding images\n",
      "found a total of 1740 for lung diseases\n"
     ]
    }
   ],
   "source": [
    "valid_path = r'C:\\Users\\Hp\\Documents\\Machine_learning_projects\\Chest_X_rays\\1_Datasets\\Validation'\n",
    "\n",
    "valid_disease_images=[]\n",
    "temp_len = 0\n",
    "\n",
    "# finding all the images in the validation folders\n",
    "for disease in Disease_labels:\n",
    "    valid_disease_images = valid_disease_images + os.listdir(valid_path + '\\\\' + disease)\n",
    "    print(f'found {len(valid_disease_images)-temp_len} {disease} images')\n",
    "    temp_len= len(valid_disease_images)\n",
    "\n",
    "valid_no_finding_images = list(No_findings['Image Index'][21275:21275+1740])\n",
    "print(f'found a total of {len(valid_disease_images)} no finding images')\n",
    "print(f'found a total of {len(valid_no_finding_images)} for lung diseases')\n"
   ]
  },
  {
   "cell_type": "code",
   "execution_count": 13,
   "metadata": {},
   "outputs": [
    {
     "name": "stdout",
     "output_type": "stream",
     "text": [
      "Copiati 1740 file della classe No_finding nella cartella C:\\Users\\Hp\\Documents\\Machine_learning_projects\\Chest_X_rays\\1_Datasets\\Valid_no_finding_disease\\No_finding\\\n",
      "Copiati 1740 file della classe Lung_disease nella cartella C:\\Users\\Hp\\Documents\\Machine_learning_projects\\Chest_X_rays\\1_Datasets\\Valid_no_finding_disease\\Lung_disease\\\n"
     ]
    }
   ],
   "source": [
    "import shutil\n",
    "\n",
    "origin_directory = r'C:\\Users\\Hp\\Documents\\Machine_learning_projects\\Chest_X_rays\\0_Chest_X_rays_data\\images'\n",
    "destination_directory_valid = r'C:\\Users\\Hp\\Documents\\Machine_learning_projects\\Chest_X_rays\\1_Datasets\\Valid_no_finding_disease'\n",
    "\n",
    "# creating the valid folder\n",
    "for label in ['No_finding', 'Lung_disease']:\n",
    "    destination_directory = destination_directory_valid + '\\\\' + label + '\\\\'\n",
    "    # Creates destination directory if it doesnt exist\n",
    "    os.makedirs(destination_directory, exist_ok=True)\n",
    "    # Copying valid images to each label valid directory\n",
    "    if label == 'No_finding':\n",
    "        for nome_immagine in valid_no_finding_images:\n",
    "            origin_path = os.path.join(origin_directory, nome_immagine)\n",
    "            destination_path = os.path.join(destination_directory, nome_immagine)\n",
    "            shutil.copy(origin_path, destination_path)\n",
    "    else:\n",
    "        for nome_immagine in valid_disease_images:\n",
    "            origin_path = os.path.join(origin_directory, nome_immagine)\n",
    "            destination_path = os.path.join(destination_directory, nome_immagine)\n",
    "            shutil.copy(origin_path, destination_path)\n",
    "\n",
    "    print(f\"Copiati {len(os.listdir(destination_directory))} file della classe \" + label + \" nella cartella \" + destination_directory)"
   ]
  }
 ],
 "metadata": {
  "kernelspec": {
   "display_name": "Python 3",
   "language": "python",
   "name": "python3"
  },
  "language_info": {
   "codemirror_mode": {
    "name": "ipython",
    "version": 3
   },
   "file_extension": ".py",
   "mimetype": "text/x-python",
   "name": "python",
   "nbconvert_exporter": "python",
   "pygments_lexer": "ipython3",
   "version": "3.11.3"
  }
 },
 "nbformat": 4,
 "nbformat_minor": 2
}
