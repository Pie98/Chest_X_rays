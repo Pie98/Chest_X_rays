{
 "cells": [
  {
   "cell_type": "code",
   "execution_count": 17,
   "metadata": {},
   "outputs": [],
   "source": [
    "import pandas as pd \n",
    "import os\n",
    "import shutil"
   ]
  },
  {
   "cell_type": "markdown",
   "metadata": {},
   "source": [
    "# Exploring The dataset"
   ]
  },
  {
   "cell_type": "code",
   "execution_count": 6,
   "metadata": {},
   "outputs": [
    {
     "data": {
      "text/html": [
       "<div>\n",
       "<style scoped>\n",
       "    .dataframe tbody tr th:only-of-type {\n",
       "        vertical-align: middle;\n",
       "    }\n",
       "\n",
       "    .dataframe tbody tr th {\n",
       "        vertical-align: top;\n",
       "    }\n",
       "\n",
       "    .dataframe thead th {\n",
       "        text-align: right;\n",
       "    }\n",
       "</style>\n",
       "<table border=\"1\" class=\"dataframe\">\n",
       "  <thead>\n",
       "    <tr style=\"text-align: right;\">\n",
       "      <th></th>\n",
       "      <th>Image Index</th>\n",
       "      <th>Finding Labels</th>\n",
       "      <th>Follow-up #</th>\n",
       "      <th>Patient ID</th>\n",
       "      <th>Patient Age</th>\n",
       "      <th>Patient Gender</th>\n",
       "      <th>View Position</th>\n",
       "      <th>OriginalImage[Width</th>\n",
       "      <th>Height]</th>\n",
       "      <th>OriginalImagePixelSpacing[x</th>\n",
       "      <th>y]</th>\n",
       "      <th>Unnamed: 11</th>\n",
       "    </tr>\n",
       "  </thead>\n",
       "  <tbody>\n",
       "    <tr>\n",
       "      <th>0</th>\n",
       "      <td>00000001_000.png</td>\n",
       "      <td>Cardiomegaly</td>\n",
       "      <td>0</td>\n",
       "      <td>1</td>\n",
       "      <td>58</td>\n",
       "      <td>M</td>\n",
       "      <td>PA</td>\n",
       "      <td>2682</td>\n",
       "      <td>2749</td>\n",
       "      <td>0.143</td>\n",
       "      <td>0.143</td>\n",
       "      <td>NaN</td>\n",
       "    </tr>\n",
       "    <tr>\n",
       "      <th>1</th>\n",
       "      <td>00000001_001.png</td>\n",
       "      <td>Cardiomegaly|Emphysema</td>\n",
       "      <td>1</td>\n",
       "      <td>1</td>\n",
       "      <td>58</td>\n",
       "      <td>M</td>\n",
       "      <td>PA</td>\n",
       "      <td>2894</td>\n",
       "      <td>2729</td>\n",
       "      <td>0.143</td>\n",
       "      <td>0.143</td>\n",
       "      <td>NaN</td>\n",
       "    </tr>\n",
       "    <tr>\n",
       "      <th>2</th>\n",
       "      <td>00000001_002.png</td>\n",
       "      <td>Cardiomegaly|Effusion</td>\n",
       "      <td>2</td>\n",
       "      <td>1</td>\n",
       "      <td>58</td>\n",
       "      <td>M</td>\n",
       "      <td>PA</td>\n",
       "      <td>2500</td>\n",
       "      <td>2048</td>\n",
       "      <td>0.168</td>\n",
       "      <td>0.168</td>\n",
       "      <td>NaN</td>\n",
       "    </tr>\n",
       "    <tr>\n",
       "      <th>3</th>\n",
       "      <td>00000002_000.png</td>\n",
       "      <td>No Finding</td>\n",
       "      <td>0</td>\n",
       "      <td>2</td>\n",
       "      <td>81</td>\n",
       "      <td>M</td>\n",
       "      <td>PA</td>\n",
       "      <td>2500</td>\n",
       "      <td>2048</td>\n",
       "      <td>0.171</td>\n",
       "      <td>0.171</td>\n",
       "      <td>NaN</td>\n",
       "    </tr>\n",
       "    <tr>\n",
       "      <th>4</th>\n",
       "      <td>00000003_000.png</td>\n",
       "      <td>Hernia</td>\n",
       "      <td>0</td>\n",
       "      <td>3</td>\n",
       "      <td>81</td>\n",
       "      <td>F</td>\n",
       "      <td>PA</td>\n",
       "      <td>2582</td>\n",
       "      <td>2991</td>\n",
       "      <td>0.143</td>\n",
       "      <td>0.143</td>\n",
       "      <td>NaN</td>\n",
       "    </tr>\n",
       "    <tr>\n",
       "      <th>...</th>\n",
       "      <td>...</td>\n",
       "      <td>...</td>\n",
       "      <td>...</td>\n",
       "      <td>...</td>\n",
       "      <td>...</td>\n",
       "      <td>...</td>\n",
       "      <td>...</td>\n",
       "      <td>...</td>\n",
       "      <td>...</td>\n",
       "      <td>...</td>\n",
       "      <td>...</td>\n",
       "      <td>...</td>\n",
       "    </tr>\n",
       "    <tr>\n",
       "      <th>112115</th>\n",
       "      <td>00030801_001.png</td>\n",
       "      <td>Mass|Pneumonia</td>\n",
       "      <td>1</td>\n",
       "      <td>30801</td>\n",
       "      <td>39</td>\n",
       "      <td>M</td>\n",
       "      <td>PA</td>\n",
       "      <td>2048</td>\n",
       "      <td>2500</td>\n",
       "      <td>0.168</td>\n",
       "      <td>0.168</td>\n",
       "      <td>NaN</td>\n",
       "    </tr>\n",
       "    <tr>\n",
       "      <th>112116</th>\n",
       "      <td>00030802_000.png</td>\n",
       "      <td>No Finding</td>\n",
       "      <td>0</td>\n",
       "      <td>30802</td>\n",
       "      <td>29</td>\n",
       "      <td>M</td>\n",
       "      <td>PA</td>\n",
       "      <td>2048</td>\n",
       "      <td>2500</td>\n",
       "      <td>0.168</td>\n",
       "      <td>0.168</td>\n",
       "      <td>NaN</td>\n",
       "    </tr>\n",
       "    <tr>\n",
       "      <th>112117</th>\n",
       "      <td>00030803_000.png</td>\n",
       "      <td>No Finding</td>\n",
       "      <td>0</td>\n",
       "      <td>30803</td>\n",
       "      <td>42</td>\n",
       "      <td>F</td>\n",
       "      <td>PA</td>\n",
       "      <td>2048</td>\n",
       "      <td>2500</td>\n",
       "      <td>0.168</td>\n",
       "      <td>0.168</td>\n",
       "      <td>NaN</td>\n",
       "    </tr>\n",
       "    <tr>\n",
       "      <th>112118</th>\n",
       "      <td>00030804_000.png</td>\n",
       "      <td>No Finding</td>\n",
       "      <td>0</td>\n",
       "      <td>30804</td>\n",
       "      <td>30</td>\n",
       "      <td>F</td>\n",
       "      <td>PA</td>\n",
       "      <td>2048</td>\n",
       "      <td>2500</td>\n",
       "      <td>0.168</td>\n",
       "      <td>0.168</td>\n",
       "      <td>NaN</td>\n",
       "    </tr>\n",
       "    <tr>\n",
       "      <th>112119</th>\n",
       "      <td>00030805_000.png</td>\n",
       "      <td>No Finding</td>\n",
       "      <td>0</td>\n",
       "      <td>30805</td>\n",
       "      <td>27</td>\n",
       "      <td>M</td>\n",
       "      <td>PA</td>\n",
       "      <td>2048</td>\n",
       "      <td>2500</td>\n",
       "      <td>0.171</td>\n",
       "      <td>0.171</td>\n",
       "      <td>NaN</td>\n",
       "    </tr>\n",
       "  </tbody>\n",
       "</table>\n",
       "<p>112120 rows × 12 columns</p>\n",
       "</div>"
      ],
      "text/plain": [
       "             Image Index          Finding Labels  Follow-up #  Patient ID  \\\n",
       "0       00000001_000.png            Cardiomegaly            0           1   \n",
       "1       00000001_001.png  Cardiomegaly|Emphysema            1           1   \n",
       "2       00000001_002.png   Cardiomegaly|Effusion            2           1   \n",
       "3       00000002_000.png              No Finding            0           2   \n",
       "4       00000003_000.png                  Hernia            0           3   \n",
       "...                  ...                     ...          ...         ...   \n",
       "112115  00030801_001.png          Mass|Pneumonia            1       30801   \n",
       "112116  00030802_000.png              No Finding            0       30802   \n",
       "112117  00030803_000.png              No Finding            0       30803   \n",
       "112118  00030804_000.png              No Finding            0       30804   \n",
       "112119  00030805_000.png              No Finding            0       30805   \n",
       "\n",
       "        Patient Age Patient Gender View Position  OriginalImage[Width  \\\n",
       "0                58              M            PA                 2682   \n",
       "1                58              M            PA                 2894   \n",
       "2                58              M            PA                 2500   \n",
       "3                81              M            PA                 2500   \n",
       "4                81              F            PA                 2582   \n",
       "...             ...            ...           ...                  ...   \n",
       "112115           39              M            PA                 2048   \n",
       "112116           29              M            PA                 2048   \n",
       "112117           42              F            PA                 2048   \n",
       "112118           30              F            PA                 2048   \n",
       "112119           27              M            PA                 2048   \n",
       "\n",
       "        Height]  OriginalImagePixelSpacing[x     y]  Unnamed: 11  \n",
       "0          2749                        0.143  0.143          NaN  \n",
       "1          2729                        0.143  0.143          NaN  \n",
       "2          2048                        0.168  0.168          NaN  \n",
       "3          2048                        0.171  0.171          NaN  \n",
       "4          2991                        0.143  0.143          NaN  \n",
       "...         ...                          ...    ...          ...  \n",
       "112115     2500                        0.168  0.168          NaN  \n",
       "112116     2500                        0.168  0.168          NaN  \n",
       "112117     2500                        0.168  0.168          NaN  \n",
       "112118     2500                        0.168  0.168          NaN  \n",
       "112119     2500                        0.171  0.171          NaN  \n",
       "\n",
       "[112120 rows x 12 columns]"
      ]
     },
     "execution_count": 6,
     "metadata": {},
     "output_type": "execute_result"
    }
   ],
   "source": [
    "Data_entry = pd.read_csv(r'C:\\Users\\Hp\\Documents\\Machine_learning_projects\\Chest_X_rays\\0_Chest_X_rays_data\\Data_Entry_2017.csv')\n",
    "Data_entry"
   ]
  },
  {
   "cell_type": "code",
   "execution_count": 14,
   "metadata": {},
   "outputs": [
    {
     "data": {
      "text/plain": [
       "Finding Labels\n",
       "No Finding                  60361\n",
       "Infiltration                 9547\n",
       "Atelectasis                  4215\n",
       "Effusion                     3955\n",
       "Nodule                       2705\n",
       "Pneumothorax                 2194\n",
       "Mass                         2139\n",
       "Effusion|Infiltration        1603\n",
       "Atelectasis|Infiltration     1350\n",
       "Consolidation                1310\n",
       "Name: count, dtype: int64"
      ]
     },
     "execution_count": 14,
     "metadata": {},
     "output_type": "execute_result"
    }
   ],
   "source": [
    "Data_entry['Finding Labels'].value_counts()[:10]"
   ]
  },
  {
   "cell_type": "code",
   "execution_count": 16,
   "metadata": {},
   "outputs": [
    {
     "name": "stdout",
     "output_type": "stream",
     "text": [
      "number of No Finding images: 60361\n",
      "number of Infiltration images: 9547\n",
      "number of Effusion images: 3955\n",
      "number of Atelectasis images: 4215\n",
      "number of Nodule images: 2705\n",
      "number of Pneumothorax images: 2194\n",
      "number of Mass images: 2139\n"
     ]
    }
   ],
   "source": [
    "No_Finding_df = Data_entry[Data_entry['Finding Labels'] == 'No Finding']\n",
    "Infiltration_df = Data_entry[Data_entry['Finding Labels'] == 'Infiltration']\n",
    "Effusion_df = Data_entry[Data_entry['Finding Labels'] == 'Effusion']\n",
    "Atelectasis_df = Data_entry[Data_entry['Finding Labels'] == 'Atelectasis']\n",
    "Nodule_df = Data_entry[Data_entry['Finding Labels'] == 'Nodule']\n",
    "Pneumothorax_df = Data_entry[Data_entry['Finding Labels'] == 'Pneumothorax']\n",
    "Mass_df = Data_entry[Data_entry['Finding Labels'] == 'Mass']\n",
    "\n",
    "print(f'number of No Finding images: {len(No_Finding_df)}')\n",
    "print(f'number of Infiltration images: {len(Infiltration_df)}')\n",
    "print(f'number of Effusion images: {len(Effusion_df)}')\n",
    "print(f'number of Atelectasis images: {len(Atelectasis_df)}')\n",
    "print(f'number of Nodule images: {len(Nodule_df)}')\n",
    "print(f'number of Pneumothorax images: {len(Pneumothorax_df)}')\n",
    "print(f'number of Mass images: {len(Mass_df)}')"
   ]
  },
  {
   "cell_type": "markdown",
   "metadata": {},
   "source": [
    "# Creating train, validation, test directories"
   ]
  },
  {
   "cell_type": "markdown",
   "metadata": {},
   "source": [
    "We want to consider 4080 images for each class. Since there aren't 4080 images for each class we will use data augmentation to create them. \n",
    "The train validation test split will be done with these proportions:\n",
    "* 86% Train (3500 images for each class, except for Pneumothorax and mass that will have respectively 3228 and 3118)\n",
    "* 7% Validation (290 images for each class)\n",
    "* 7% Test (290 images images for each class)\n",
    "\n",
    "The images will be saved in the Datasets directory, respectively in a train, validation, test folder."
   ]
  },
  {
   "cell_type": "markdown",
   "metadata": {},
   "source": [
    "## Test"
   ]
  },
  {
   "cell_type": "code",
   "execution_count": 38,
   "metadata": {},
   "outputs": [
    {
     "name": "stdout",
     "output_type": "stream",
     "text": [
      "Copiati i file della classe No_finding nella cartella C:\\Users\\Hp\\Documents\\Machine_learning_projects\\Chest_X_rays\\Datasets\\Test\\No_finding\\\n",
      "Copiati i file della classe Infiltration nella cartella C:\\Users\\Hp\\Documents\\Machine_learning_projects\\Chest_X_rays\\Datasets\\Test\\Infiltration\\\n",
      "Copiati i file della classe Effusion nella cartella C:\\Users\\Hp\\Documents\\Machine_learning_projects\\Chest_X_rays\\Datasets\\Test\\Effusion\\\n",
      "Copiati i file della classe Atelectasis nella cartella C:\\Users\\Hp\\Documents\\Machine_learning_projects\\Chest_X_rays\\Datasets\\Test\\Atelectasis\\\n",
      "Copiati i file della classe Nodule nella cartella C:\\Users\\Hp\\Documents\\Machine_learning_projects\\Chest_X_rays\\Datasets\\Test\\Nodule\\\n",
      "Copiati i file della classe Pneumothorax nella cartella C:\\Users\\Hp\\Documents\\Machine_learning_projects\\Chest_X_rays\\Datasets\\Test\\Pneumothorax\\\n",
      "Copiati i file della classe Mass nella cartella C:\\Users\\Hp\\Documents\\Machine_learning_projects\\Chest_X_rays\\Datasets\\Test\\Mass\\\n"
     ]
    }
   ],
   "source": [
    "origin_directory = r'C:\\Users\\Hp\\Documents\\Machine_learning_projects\\Chest_X_rays\\0_Chest_X_rays_data\\images'\n",
    "destination_directory_test = r'C:\\Users\\Hp\\Documents\\Machine_learning_projects\\Chest_X_rays\\1_Datasets\\Test'\n",
    "\n",
    "dataframes = [No_Finding_df, Infiltration_df, Effusion_df, Atelectasis_df, Nodule_df, Pneumothorax_df, Mass_df]\n",
    "Finding_labels = ['No_finding', 'Infiltration', 'Effusion', 'Atelectasis', 'Nodule', 'Pneumothorax', 'Mass']\n",
    "\n",
    "for i in range(len(dataframes)):\n",
    "    dataframe = dataframes[i]\n",
    "    label = Finding_labels[i]\n",
    "    destination_directory = destination_directory_test + '\\\\' + label + '\\\\'\n",
    "    # Creates destination directory if it doesnt exist\n",
    "    os.makedirs(destination_directory, exist_ok=True)\n",
    "    # Copying test images to each label test directory\n",
    "    for nome_immagine in dataframe['Image Index'][:290]:\n",
    "        origin_path = os.path.join(origin_directory, nome_immagine)\n",
    "        destination_path = os.path.join(destination_directory, nome_immagine)\n",
    "        \n",
    "        # Copia il file\n",
    "        shutil.copy(origin_path, destination_path)\n",
    "\n",
    "    print(\"Copied files from class \" + label + \" in the folder \" + destination_directory)\n"
   ]
  },
  {
   "cell_type": "markdown",
   "metadata": {},
   "source": [
    "## Validation"
   ]
  },
  {
   "cell_type": "code",
   "execution_count": 39,
   "metadata": {},
   "outputs": [
    {
     "name": "stdout",
     "output_type": "stream",
     "text": [
      "Copiati i file della classe No_finding nella cartella C:\\Users\\Hp\\Documents\\Machine_learning_projects\\Chest_X_rays\\Datasets\\Validation\\No_finding\\\n",
      "Copiati i file della classe Infiltration nella cartella C:\\Users\\Hp\\Documents\\Machine_learning_projects\\Chest_X_rays\\Datasets\\Validation\\Infiltration\\\n",
      "Copiati i file della classe Effusion nella cartella C:\\Users\\Hp\\Documents\\Machine_learning_projects\\Chest_X_rays\\Datasets\\Validation\\Effusion\\\n",
      "Copiati i file della classe Atelectasis nella cartella C:\\Users\\Hp\\Documents\\Machine_learning_projects\\Chest_X_rays\\Datasets\\Validation\\Atelectasis\\\n",
      "Copiati i file della classe Nodule nella cartella C:\\Users\\Hp\\Documents\\Machine_learning_projects\\Chest_X_rays\\Datasets\\Validation\\Nodule\\\n",
      "Copiati i file della classe Pneumothorax nella cartella C:\\Users\\Hp\\Documents\\Machine_learning_projects\\Chest_X_rays\\Datasets\\Validation\\Pneumothorax\\\n",
      "Copiati i file della classe Mass nella cartella C:\\Users\\Hp\\Documents\\Machine_learning_projects\\Chest_X_rays\\Datasets\\Validation\\Mass\\\n"
     ]
    }
   ],
   "source": [
    "origin_directory = r'C:\\Users\\Hp\\Documents\\Machine_learning_projects\\Chest_X_rays\\0_Chest_X_rays_data\\images'\n",
    "destination_directory_valid = r'C:\\Users\\Hp\\Documents\\Machine_learning_projects\\Chest_X_rays\\1_Datasets\\Validation'\n",
    "\n",
    "dataframes = [No_Finding_df, Infiltration_df, Effusion_df, Atelectasis_df, Nodule_df, Pneumothorax_df, Mass_df]\n",
    "Finding_labels = ['No_finding', 'Infiltration', 'Effusion', 'Atelectasis', 'Nodule', 'Pneumothorax', 'Mass']\n",
    "\n",
    "for i in range(len(dataframes)):\n",
    "    dataframe = dataframes[i]\n",
    "    label = Finding_labels[i]\n",
    "    destination_directory = destination_directory_valid + '\\\\' + label + '\\\\'\n",
    "    # Creates destination directory if it doesnt exist\n",
    "    os.makedirs(destination_directory, exist_ok=True)\n",
    "    # Copying valid images to each label valid directory\n",
    "    for nome_immagine in dataframe['Image Index'][290:580]:\n",
    "        origin_path = os.path.join(origin_directory, nome_immagine)\n",
    "        destination_path = os.path.join(destination_directory, nome_immagine)\n",
    "        \n",
    "        # Copia il file\n",
    "        shutil.copy(origin_path, destination_path)\n",
    "\n",
    "    print(\"Copied files from class \" + label + \" in the folder \" + destination_directory)\n"
   ]
  },
  {
   "cell_type": "markdown",
   "metadata": {},
   "source": [
    "## Train "
   ]
  },
  {
   "cell_type": "code",
   "execution_count": 50,
   "metadata": {},
   "outputs": [
    {
     "name": "stdout",
     "output_type": "stream",
     "text": [
      "Copiati 3500 file della classe No_finding nella cartella C:\\Users\\Hp\\Documents\\Machine_learning_projects\\Chest_X_rays\\Datasets\\Train\\No_finding\\\n",
      "Copiati 3500 file della classe Infiltration nella cartella C:\\Users\\Hp\\Documents\\Machine_learning_projects\\Chest_X_rays\\Datasets\\Train\\Infiltration\\\n",
      "Copiati 3375 file della classe Effusion nella cartella C:\\Users\\Hp\\Documents\\Machine_learning_projects\\Chest_X_rays\\Datasets\\Train\\Effusion\\\n",
      "Copiati 3500 file della classe Atelectasis nella cartella C:\\Users\\Hp\\Documents\\Machine_learning_projects\\Chest_X_rays\\Datasets\\Train\\Atelectasis\\\n",
      "Copiati 2125 file della classe Nodule nella cartella C:\\Users\\Hp\\Documents\\Machine_learning_projects\\Chest_X_rays\\Datasets\\Train\\Nodule\\\n",
      "Copiati 1614 file della classe Pneumothorax nella cartella C:\\Users\\Hp\\Documents\\Machine_learning_projects\\Chest_X_rays\\Datasets\\Train\\Pneumothorax\\\n",
      "Copiati 1559 file della classe Mass nella cartella C:\\Users\\Hp\\Documents\\Machine_learning_projects\\Chest_X_rays\\Datasets\\Train\\Mass\\\n"
     ]
    }
   ],
   "source": [
    "origin_directory = r'C:\\Users\\Hp\\Documents\\Machine_learning_projects\\Chest_X_rays\\0_Chest_X_rays_data\\images'\n",
    "destination_directory_train = r'C:\\Users\\Hp\\Documents\\Machine_learning_projects\\Chest_X_rays\\1_Datasets\\Train'\n",
    "\n",
    "dataframes = [No_Finding_df, Infiltration_df, Effusion_df, Atelectasis_df, Nodule_df, Pneumothorax_df, Mass_df]\n",
    "Finding_labels = ['No_finding', 'Infiltration', 'Effusion', 'Atelectasis', 'Nodule', 'Pneumothorax', 'Mass']\n",
    "\n",
    "for i in range(len(dataframes)):\n",
    "    dataframe = dataframes[i]\n",
    "    label = Finding_labels[i]\n",
    "    destination_directory = destination_directory_train + '\\\\' + label + '\\\\'\n",
    "    # Creates destination directory if it doesnt exist\n",
    "    os.makedirs(destination_directory, exist_ok=True)\n",
    "    # Copying train images to each label train directory\n",
    "    upper_limit = min(len(dataframe['Image Index']), 3500+580)\n",
    "    for nome_immagine in dataframe['Image Index'][580:upper_limit]:\n",
    "        origin_path = os.path.join(origin_directory, nome_immagine)\n",
    "        destination_path = os.path.join(destination_directory, nome_immagine)\n",
    "        \n",
    "        # Copia il file\n",
    "        shutil.copy(origin_path, destination_path)\n",
    "\n",
    "    print(f\"Copied {upper_limit-580} file from class \" + label + \" in the folder \" + destination_directory)\n"
   ]
  },
  {
   "cell_type": "code",
   "execution_count": 52,
   "metadata": {},
   "outputs": [
    {
     "name": "stdout",
     "output_type": "stream",
     "text": [
      "There are 7 directories and 0 images in \"C:\\Users\\Hp\\Documents\\Machine_learning_projects\\Chest_X_rays\\Datasets\\Train\"\n",
      "There are 0 directories and 3500 images in \"C:\\Users\\Hp\\Documents\\Machine_learning_projects\\Chest_X_rays\\Datasets\\Train\\Atelectasis\"\n",
      "There are 0 directories and 3375 images in \"C:\\Users\\Hp\\Documents\\Machine_learning_projects\\Chest_X_rays\\Datasets\\Train\\Effusion\"\n",
      "There are 0 directories and 3500 images in \"C:\\Users\\Hp\\Documents\\Machine_learning_projects\\Chest_X_rays\\Datasets\\Train\\Infiltration\"\n",
      "There are 0 directories and 1559 images in \"C:\\Users\\Hp\\Documents\\Machine_learning_projects\\Chest_X_rays\\Datasets\\Train\\Mass\"\n",
      "There are 0 directories and 2125 images in \"C:\\Users\\Hp\\Documents\\Machine_learning_projects\\Chest_X_rays\\Datasets\\Train\\Nodule\"\n",
      "There are 0 directories and 3500 images in \"C:\\Users\\Hp\\Documents\\Machine_learning_projects\\Chest_X_rays\\Datasets\\Train\\No_finding\"\n",
      "There are 0 directories and 1614 images in \"C:\\Users\\Hp\\Documents\\Machine_learning_projects\\Chest_X_rays\\Datasets\\Train\\Pneumothorax\"\n"
     ]
    }
   ],
   "source": [
    "directory_path = r'C:\\Users\\Hp\\Documents\\Machine_learning_projects\\Chest_X_rays\\1_Datasets\\Train'\n",
    "\n",
    "for dirpath, dirnames, filenames in os.walk(directory_path):\n",
    "  print(f'There are {len(dirnames)} directories and {len(filenames)} images in \"{dirpath}\"')"
   ]
  }
 ],
 "metadata": {
  "kernelspec": {
   "display_name": "Python 3",
   "language": "python",
   "name": "python3"
  },
  "language_info": {
   "codemirror_mode": {
    "name": "ipython",
    "version": 3
   },
   "file_extension": ".py",
   "mimetype": "text/x-python",
   "name": "python",
   "nbconvert_exporter": "python",
   "pygments_lexer": "ipython3",
   "version": "3.11.3"
  }
 },
 "nbformat": 4,
 "nbformat_minor": 2
}
